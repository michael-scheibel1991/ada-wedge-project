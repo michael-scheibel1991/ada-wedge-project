{
 "cells": [
  {
   "cell_type": "markdown",
   "metadata": {},
   "source": [
    "# Wedge Task 3 : Building Summary Tables"
   ]
  },
  {
   "cell_type": "markdown",
   "metadata": {},
   "source": [
    "**Pre-Work:** I have generated 3 table via queries in Google Big Query, and exported the following text files: sales_date_ hour.txt; sales_owner_year_month.txt and sales_description_year_month.txt. The queries can be found in Task3_Queries.txt which is in the Wedge project repository. The following code is for creating a wedge database for task 3, creating 3 tables in wedge_task3.db and inserting the data from the exported text files into those tables. "
   ]
  },
  {
   "cell_type": "markdown",
   "metadata": {},
   "source": [
    "**Table 1 -\tSales by date by hour**"
   ]
  },
  {
   "cell_type": "code",
   "execution_count": 1,
   "metadata": {},
   "outputs": [],
   "source": [
    "import sqlite3\n",
    "\n",
    "input_file1 = \"sales_date_ hour.txt\"\n",
    "\n",
    "#Creating database \n",
    "db = sqlite3.connect(\"wedge_task3.db\") #Creating database for task 3 tables\n",
    "\n",
    "#Setting up a cursor in order to talk to database\n",
    "cur = db.cursor()\n",
    "\n",
    "cur.execute('''DROP TABLE IF EXISTS Sales_by_date_by_hour''')\n",
    "cur.execute('''CREATE TABLE Sales_by_date_by_hour (\n",
    "    Date TIMESTAMP,\n",
    "    Hour INTERGER,\n",
    "    Sales REAL,\n",
    "    Transactions INTEGER,\n",
    "    Items TEXT)''')\n",
    "\n",
    "with open(input_file1,'r',encoding=\"Latin-1\") as ifile :\n",
    "    next(ifile)\n",
    "    for idx, line in enumerate(ifile.readlines()) :\n",
    "        line = line.strip().split(\"\\t\")\n",
    "        cur.execute('''\n",
    "            INSERT INTO Sales_by_date_by_hour (Date, Hour, Sales, Transactions, Items)\n",
    "            VALUES (?,?,?,?,?)''', line)"
   ]
  },
  {
   "cell_type": "code",
   "execution_count": 2,
   "metadata": {},
   "outputs": [],
   "source": [
    "db.commit()"
   ]
  },
  {
   "cell_type": "markdown",
   "metadata": {},
   "source": [
    "**Table 2 - Sales by owner by year by month**"
   ]
  },
  {
   "cell_type": "code",
   "execution_count": 3,
   "metadata": {},
   "outputs": [],
   "source": [
    "input_file2 = \"sales_owner_year_month.txt\"\n",
    "\n",
    "cur.execute('''DROP TABLE IF EXISTS Sales_by_owner_by_date''')\n",
    "cur.execute('''CREATE TABLE Sales_by_owner_by_date (\n",
    "    Owner INTERGER,\n",
    "    Year TIMESTAMP,\n",
    "    Month TIMESTAMP,\n",
    "    Sales REAL,\n",
    "    Transactions INTEGER,\n",
    "    Items TEXT)''')\n",
    "\n",
    "with open(input_file2,'r',encoding=\"Latin-1\") as ifile :\n",
    "    next(ifile)\n",
    "    for idx, line in enumerate(ifile.readlines()) :\n",
    "        line = line.strip().split(\"\\t\")\n",
    "        cur.execute('''\n",
    "            INSERT INTO Sales_by_owner_by_date (Owner, Year, Month, Sales, Transactions, Items)\n",
    "            VALUES (?,?,?,?,?,?)''', line)"
   ]
  },
  {
   "cell_type": "code",
   "execution_count": 4,
   "metadata": {},
   "outputs": [],
   "source": [
    "db.commit()"
   ]
  },
  {
   "cell_type": "markdown",
   "metadata": {},
   "source": [
    "**Table 3 - Sales by product description by year by month**"
   ]
  },
  {
   "cell_type": "code",
   "execution_count": 5,
   "metadata": {},
   "outputs": [],
   "source": [
    "input_file3 = \"sales_description_year_month.txt\"\n",
    "\n",
    "cur.execute('''DROP TABLE IF EXISTS Sales_by_description_by_date''')\n",
    "cur.execute('''CREATE TABLE Sales_by_description_by_date (\n",
    "    UPC INTERGER,\n",
    "    Product TEXT,\n",
    "    Department INTEGER,\n",
    "    Dept_Name TEXT,\n",
    "    Year TIMESTAMP,\n",
    "    Month TIMESTAMP,\n",
    "    Sales REAL,\n",
    "    Transactions INTEGER,\n",
    "    Items TEXT)''')\n",
    "\n",
    "with open(input_file3,'r',encoding=\"Latin-1\") as ifile :\n",
    "    next(ifile)\n",
    "    for idx, line in enumerate(ifile.readlines()) :\n",
    "        line = line.strip().split(\"\\t\")\n",
    "        cur.execute('''\n",
    "            INSERT INTO Sales_by_description_by_date (UPC, Product, Department, Dept_Name, Year, Month, Sales, Transactions, Items)\n",
    "            VALUES (?,?,?,?,?,?,?,?,?)''', line)"
   ]
  },
  {
   "cell_type": "code",
   "execution_count": 6,
   "metadata": {},
   "outputs": [],
   "source": [
    "db.commit()"
   ]
  }
 ],
 "metadata": {
  "kernelspec": {
   "display_name": "Python 3",
   "language": "python",
   "name": "python3"
  },
  "language_info": {
   "codemirror_mode": {
    "name": "ipython",
    "version": 3
   },
   "file_extension": ".py",
   "mimetype": "text/x-python",
   "name": "python",
   "nbconvert_exporter": "python",
   "pygments_lexer": "ipython3",
   "version": "3.8.3"
  }
 },
 "nbformat": 4,
 "nbformat_minor": 4
}
