{
 "cells": [
  {
   "cell_type": "code",
   "execution_count": 1,
   "metadata": {},
   "outputs": [
    {
     "name": "stdout",
     "output_type": "stream",
     "text": [
      "['datetime,register_no,emp_no,trans_no,upc,description,trans_type,trans_subtype,trans_status,department,quantity,Scale,cost,unitPrice,total,regPrice,altPrice,tax,taxexempt,foodstamp,wicable,discount,memDiscount,discountable,discounttype,voided,percentDiscount,ItemQtty,volDiscType,volume,VolSpecial,mixMatch,matched,memType,staff,numflag,itemstatus,tenderstatus,charflag,varflag,batchHeaderID,local,organic,display,receipt,card_no,store,branch,match_id,trans_id']\n",
      "['2013-06-11 17:36:15+00:00,6.0,6.0,69.0,0.89DP9,GEN MERCH,D, , ,9.0,1.0,0.0,0.0,0.89,0.89,0.89,0.0,1.0,0.0,0.0,0.0,0.0,0.0,3.0,0.0,0.0,0.0,1.0,0.0,0.0,0.0,0.0,0.0,None,None,0.0,0.0,0.0,None,0.0,None,0.0,None,None,0.0,41305.0,1.0,0.0,0.0,1.0']\n",
      "['2013-06-11 17:36:15+00:00,6.0,6.0,69.0,0.89DP9,GEN MERCH,D, , ,9.0,1.0,0.0,0.0,0.89,0.89,0.89,0.0,1.0,0.0,0.0,0.0,0.0,0.0,3.0,0.0,0.0,0.0,1.0,0.0,0.0,0.0,0.0,0.0,None,None,0.0,0.0,0.0,None,0.0,None,0.0,None,None,0.0,41305.0,1.0,0.0,0.0,1.0']\n",
      "['2013-06-11 17:36:15+00:00,6.0,6.0,69.0,0.89DP9,GEN MERCH,D, , ,9.0,1.0,0.0,0.0,0.89,0.89,0.89,0.0,1.0,0.0,0.0,0.0,0.0,0.0,3.0,0.0,0.0,0.0,1.0,0.0,0.0,0.0,0.0,0.0,None,None,0.0,0.0,0.0,None,0.0,None,0.0,None,None,0.0,41305.0,1.0,0.0,0.0,1.0']\n",
      "['2013-04-01 10:28:12+00:00,7.0,23.0,38.0,DISCOUNT,Discount,I, , ,0.0,1.0,0.0,0.0,-8.02,-8.02,0.0,0.0,0.0,0.0,0.0,0.0,0.0,0.0,0.0,0.0,0.0,None,1.0,0.0,0.0,0.0,0.0,0.0,None,None,0.0,0.0,0.0,None,0.0,None,0.0,None,None,0.0,40583.0,1.0,0.0,0.0,23.0']\n"
     ]
    }
   ],
   "source": [
    "import sqlite3\n",
    "\n",
    "input_file = \"owners.txt\"\n",
    "\n",
    "# Let's just open the file and read the first few lines to the screen.\n",
    "with open(input_file,'r',encoding=\"Latin-1\") as ifile :\n",
    "    for idx, line in enumerate(ifile) :\n",
    "        print(line.strip().split(\"\\t\"))\n",
    "        if idx > 3 :\n",
    "            break"
   ]
  },
  {
   "cell_type": "code",
   "execution_count": null,
   "metadata": {},
   "outputs": [],
   "source": [
    "db = sqlite3.connect(\"change_me.db\") #':memory:') # Make this a directory + file if you want to store the results.\n",
    "cur = db.cursor()\n",
    "\n",
    "init_db(cur) # take a look at the .py file to see what happened here."
   ]
  }
 ],
 "metadata": {
  "kernelspec": {
   "display_name": "Python 3",
   "language": "python",
   "name": "python3"
  },
  "language_info": {
   "codemirror_mode": {
    "name": "ipython",
    "version": 3
   },
   "file_extension": ".py",
   "mimetype": "text/x-python",
   "name": "python",
   "nbconvert_exporter": "python",
   "pygments_lexer": "ipython3",
   "version": "3.8.3"
  }
 },
 "nbformat": 4,
 "nbformat_minor": 4
}
