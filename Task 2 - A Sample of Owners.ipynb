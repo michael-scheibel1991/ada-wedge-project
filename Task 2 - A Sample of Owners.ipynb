{
 "cells": [
  {
   "cell_type": "markdown",
   "metadata": {},
   "source": [
    "# Task 2: A Sample of Owners"
   ]
  },
  {
   "cell_type": "markdown",
   "metadata": {},
   "source": [
    "Connect to GBQ"
   ]
  },
  {
   "cell_type": "code",
   "execution_count": 1,
   "metadata": {},
   "outputs": [],
   "source": [
    "from google.cloud import bigquery\n",
    "from google.oauth2 import service_account\n",
    "import os\n",
    "import csv\n",
    "import random"
   ]
  },
  {
   "cell_type": "code",
   "execution_count": 2,
   "metadata": {},
   "outputs": [],
   "source": [
    "service_path = \"C:\\\\Users\\\\mikes\\\\OneDrive\\\\Documents\\\\Applied Data Analytics\\\\WedgeProject2020_MikeS\\\\ada-wedge-project\\\\\"\n",
    "service_file = 'wedge2020-e941b1559b9f.json' #authentication information  \n",
    "gbq_proj_id = 'wedge2020'  \n",
    "gbq_dataset_id = 'wedge_transactions_data' # the data set ID\n",
    "\n",
    "private_key =service_path + service_file"
   ]
  },
  {
   "cell_type": "code",
   "execution_count": 3,
   "metadata": {},
   "outputs": [],
   "source": [
    "# pass in our credentials to access our project.\n",
    "credentials = service_account.Credentials.from_service_account_file(service_path + service_file)"
   ]
  },
  {
   "cell_type": "code",
   "execution_count": 4,
   "metadata": {},
   "outputs": [],
   "source": [
    "# establish our connection\n",
    "client = bigquery.Client(credentials = credentials, project=gbq_proj_id)"
   ]
  },
  {
   "cell_type": "markdown",
   "metadata": {},
   "source": [
    "**Build list of owners**"
   ]
  },
  {
   "cell_type": "code",
   "execution_count": 5,
   "metadata": {},
   "outputs": [],
   "source": [
    "# query to pull list of owner adn removing card_no 3 since this is for non owners\n",
    "query = (\"\"\"SELECT DISTINCT\n",
    "(card_no) FROM `wedge2020.wedge_transactions_data.*`\n",
    "WHERE card_no != 3\n",
    "GROUP BY card_no\n",
    "             \"\"\")\n",
    "\n",
    "# execute queries with `client.query`\n",
    "query_job = client.query(\n",
    "    query,\n",
    "    location=\"US\",\n",
    ")\n",
    "\n",
    "results = client.query(query)"
   ]
  },
  {
   "cell_type": "code",
   "execution_count": 6,
   "metadata": {},
   "outputs": [
    {
     "data": {
      "text/plain": [
       "27207"
      ]
     },
     "execution_count": 6,
     "metadata": {},
     "output_type": "execute_result"
    }
   ],
   "source": [
    "len(list(results))"
   ]
  },
  {
   "cell_type": "markdown",
   "metadata": {},
   "source": [
    "**Take a sample of the owners**"
   ]
  },
  {
   "cell_type": "code",
   "execution_count": 8,
   "metadata": {},
   "outputs": [
    {
     "name": "stdout",
     "output_type": "stream",
     "text": [
      "[48346.0, 12002.0, 20579.0, 49045.0, 18612.0, 22352.0, 51445.0, 12972.0, 65400.0, 27816.0, 64319.0, 15059.0, 11079.0, 49175.0, 45267.0, 20643.0, 44261.0, 65236.0, 64939.0, 49989.0, 37609.0, 26599.0, 64353.0, 39349.0, 24158.0, 21046.0, 16552.0, 20641.0, 16087.0, 20527.0, 16214.0, 12326.0, 50894.0, 39450.0, 43081.0, 65813.0, 43326.0, 51814.0, 24317.0, 22339.0, 12088.0, 65497.0, 21979.0, 36842.0, 50197.0, 50684.0, 64822.0, 65374.0, 25991.0, 12851.0, 22716.0, 15765.0, 11645.0, 18615.0, 29890.0, 10392.0, 65304.0, 50346.0, 16570.0, 44549.0, 27370.0, 51194.0, 14130.0, 42474.0, 38070.0, 12902.0, 12163.0, 16910.0, 15295.0, 30885.0, 44465.0, 64998.0, 56031.0, 16976.0, 35113.0, 49846.0, 24238.0, 17549.0, 22671.0, 11556.0, 13939.0, 15393.0, 17110.0, 10973.0, 52326.0, 65373.0, 15510.0, 25229.0, 20539.0, 12816.0, 43053.0, 17843.0, 65275.0, 11285.0, 23308.0, 51678.0, 50823.0, 22632.0, 37466.0, 63973.0, 21167.0, 61120.0, 24811.0, 14057.0, 19858.0, 22980.0, 49706.0, 27772.0, 22721.0, 19077.0, 19288.0, 64583.0, 23782.0, 25922.0, 15704.0, 24017.0, 11206.0, 22122.0, 25902.0, 48641.0, 47933.0, 64397.0, 66181.0, 35149.0, 18686.0, 19756.0, 13989.0, 52485.0, 47362.0, 21998.0, 26083.0, 52864.0, 18670.0, 19559.0, 38615.0, 18206.0, 20509.0, 44261.0, 65108.0, 12198.0, 48649.0, 24850.0, 18244.0, 13295.0, 10336.0, 25733.0, 23209.0, 11116.0, 24391.0, 48519.0, 17506.0, 24302.0, 34443.0, 47998.0, 19729.0, 45051.0, 11235.0, 22584.0, 64814.0, 48751.0, 21976.0, 12393.0, 49962.0, 52071.0, 60103.0, 50663.0, 20426.0, 16891.0, 24812.0, 17200.0, 24633.0, 48367.0, 17160.0, 21705.0, 22817.0, 30000.0, 17657.0, 22292.0, 19526.0, 63328.0, 65463.0, 15455.0, 21116.0, 25471.0, 64384.0, 10452.0, 17365.0, 23629.0, 14376.0, 10129.0, 12512.0, 25499.0, 48796.0, 21911.0, 14090.0, 65907.0, 20191.0, 40158.0, 18457.0, 36451.0, 13254.0, 21624.0, 19200.0, 48390.0, 13859.0, 39215.0, 21961.0, 48698.0, 23569.0, 49827.0, 23885.0, 18247.0, 22300.0, 17480.0, 24490.0, 21308.0, 17560.0, 15511.0, 15466.0, 65442.0, 27162.0, 51858.0, 15378.0, 42410.0, 65355.0, 14046.0, 60602.0, 47362.0, 14691.0, 11812.0, 21045.0, 22502.0, 52320.0, 10562.0, 41220.0, 65102.0, 13877.0, 47980.0, 52095.0, 11276.0, 24596.0, 65018.0, 10842.0, 41034.0, 16178.0, 20662.0, 41261.0, 47411.0, 14511.0, 10424.0, 16270.0, 36201.0, 17749.0, 30494.0, 20362.0, 65783.0, 49977.0, 48797.0, 22086.0, 21917.0, 18841.0, 10682.0, 16960.0, 17173.0, 19936.0, 15110.0, 22274.0, 47844.0, 24949.0, 23411.0, 12702.0, 21841.0, 38806.0, 14818.0, 18465.0, 49931.0, 24958.0, 51106.0, 10386.0, 50789.0, 18177.0, 21659.0, 14440.0, 66063.0, 17479.0, 14668.0, 25566.0, 40951.0, 19339.0, 13449.0, 17598.0, 64670.0, 40647.0, 23430.0, 22041.0, 31699.0, 52082.0, 34043.0, 22798.0, 44445.0, 44585.0, 51113.0, 25000.0, 18489.0, 48407.0, 15132.0, 44771.0, 18851.0, 62375.0, 18945.0, 18619.0, 10214.0, 49898.0, 11366.0, 15951.0, 51374.0, 52674.0, 22089.0, 23772.0, 25572.0, 17406.0, 16989.0, 23499.0, 52552.0, 14473.0, 27883.0, 64637.0, 12293.0, 51337.0, 49194.0, 40352.0, 13289.0, 21266.0, 22767.0, 48495.0, 25633.0, 51862.0, 52281.0, 16407.0, 48912.0, 11532.0, 65066.0, 49331.0, 25081.0, 11468.0, 52293.0, 17104.0, 19878.0, 11492.0, 11285.0, 47308.0, 20592.0, 49866.0, 49160.0, 52292.0, 11431.0, 49546.0, 42438.0, 19560.0, 30782.0, 12397.0, 22561.0, 21637.0, 44234.0, 65168.0, 17656.0, 25368.0, 11808.0, 13121.0, 16449.0, 37103.0, 38887.0, 49151.0, 45228.0, 42962.0, 16584.0, 10675.0, 34122.0, 22024.0, 18845.0, 10264.0, 13887.0, 17695.0, 23222.0, 64320.0, 23877.0, 20817.0, 10043.0, 38267.0, 44251.0, 30947.0, 19612.0, 23470.0, 11113.0, 16758.0, 15967.0, 13920.0, 18574.0, 50009.0, 64807.0, 51206.0, 23904.0, 18769.0, 62953.0, 18547.0, 22001.0, 11396.0, 23164.0, 60254.0, 23035.0, 23382.0, 22650.0, 36025.0, 10417.0, 19341.0, 24290.0, 44836.0, 15799.0, 11715.0, 12570.0]\n"
     ]
    }
   ],
   "source": [
    "sample_of_owners = []\n",
    "\n",
    "for owner in results:\n",
    "    sample_of_owners.append(owner[0])\n",
    "    \n",
    "    \n",
    "sample = random.choices(sample_of_owners,k=420) # creating sample of 420 owners from 27207 owners from query above\n",
    "                                                # 420 is an arbritrary number that should get close to the recommended 250 MB\n",
    "#print(sample)"
   ]
  },
  {
   "cell_type": "code",
   "execution_count": 9,
   "metadata": {},
   "outputs": [],
   "source": [
    "query = (\"\"\"SELECT *\n",
    "FROM `wedge2020.wedge_transactions_data.*`\n",
    "WHERE card_no in (\n",
    "\"\"\")\n",
    "\n",
    "for owner in sample:\n",
    "    query += str(owner) + ', ' \n",
    "query = query[:-2] +')'"
   ]
  },
  {
   "cell_type": "code",
   "execution_count": 10,
   "metadata": {},
   "outputs": [],
   "source": [
    "results = client.query(\n",
    "    query,\n",
    "    location=\"US\",\n",
    ")"
   ]
  },
  {
   "cell_type": "markdown",
   "metadata": {},
   "source": [
    "**Extracts all records associated with those owners**"
   ]
  },
  {
   "cell_type": "markdown",
   "metadata": {},
   "source": [
    "Adding headers and writing to a new text file named owner_transactions that will contain sample of owners"
   ]
  },
  {
   "cell_type": "code",
   "execution_count": 11,
   "metadata": {},
   "outputs": [],
   "source": [
    "headers = [\"datetime\", \"register_no\", \"emp_no\", \"trans_no\", \"upc\" , \"description\", \"trans_type\", \"trans_subtype\", \"trans_status\", \"department\", \"quantity\", \"Scale\", \"cost\", \"unitPrice\", \"total\", \"regPrice\", \"altPrice\", \"tax\", \"taxexempt\", \"foodstamp\", \"wicable\", \"discount\", \"memDiscount\", \"discountable\", \"discounttype\", \"voided\", \"percentDiscount\", \"ItemQtty\", \"volDiscType\",\"volume\", \"VolSpecial\", \"mixMatch\", \"matched\", \"memType\", \"staff\", \"numflag\", \"itemstatus\", \"tenderstatus\", \"charflag\", \"varflag\", \"batchHeaderID\", \"local\", \"organic\", \"display\", \"receipt\", \"card_no\", \"store\", \"branch\", \"match_id\",\"trans_id\"]"
   ]
  },
  {
   "cell_type": "code",
   "execution_count": 12,
   "metadata": {},
   "outputs": [],
   "source": [
    "with open(\"owner_transactions.txt\", 'w') as outfile : \n",
    "    outfile.write(\",\".join(headers) + \"\\n\")\n",
    "    for line in results:\n",
    "        row = [str(item) for item in line]\n",
    "        outfile.write(\",\".join(row) + \"\\n\")"
   ]
  }
 ],
 "metadata": {
  "kernelspec": {
   "display_name": "Python 3",
   "language": "python",
   "name": "python3"
  },
  "language_info": {
   "codemirror_mode": {
    "name": "ipython",
    "version": 3
   },
   "file_extension": ".py",
   "mimetype": "text/x-python",
   "name": "python",
   "nbconvert_exporter": "python",
   "pygments_lexer": "ipython3",
   "version": "3.8.3"
  }
 },
 "nbformat": 4,
 "nbformat_minor": 4
}
