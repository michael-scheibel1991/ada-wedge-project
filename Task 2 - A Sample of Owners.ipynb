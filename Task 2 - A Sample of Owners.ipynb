{
 "cells": [
  {
   "cell_type": "markdown",
   "metadata": {},
   "source": [
    "# Task 2: A Sample of Owners"
   ]
  },
  {
   "cell_type": "markdown",
   "metadata": {},
   "source": [
    "Connect to GBQ"
   ]
  },
  {
   "cell_type": "code",
   "execution_count": null,
   "metadata": {},
   "outputs": [],
   "source": [
    "from google.cloud import bigquery\n",
    "from google.oauth2 import service_account\n",
    "import os\n",
    "import csv\n",
    "import random"
   ]
  },
  {
   "cell_type": "code",
   "execution_count": null,
   "metadata": {},
   "outputs": [],
   "source": [
    "service_path = \"C:\\\\Users\\\\mikes\\\\OneDrive\\\\Documents\\\\Applied Data Analytics\\\\WedgeProject2020_MikeS\\\\ada-wedge-project\\\\\"\n",
    "service_file = 'wedge2020-e941b1559b9f.json' #authentication information  \n",
    "gbq_proj_id = 'wedge2020'  \n",
    "gbq_dataset_id = 'wedge_transactions_data' # the data set ID\n",
    "\n",
    "private_key =service_path + service_file"
   ]
  },
  {
   "cell_type": "code",
   "execution_count": null,
   "metadata": {},
   "outputs": [],
   "source": [
    "# pass in our credentials to access our project.\n",
    "credentials = service_account.Credentials.from_service_account_file(service_path + service_file)"
   ]
  },
  {
   "cell_type": "code",
   "execution_count": null,
   "metadata": {},
   "outputs": [],
   "source": [
    "# establish our connection\n",
    "client = bigquery.Client(credentials = credentials, project=gbq_proj_id)"
   ]
  },
  {
   "cell_type": "markdown",
   "metadata": {},
   "source": [
    "**Build list of owners**"
   ]
  },
  {
   "cell_type": "code",
   "execution_count": null,
   "metadata": {},
   "outputs": [],
   "source": [
    "# query to pull list of owner adn removing card_no 3 since this is for non owners\n",
    "query = (\"\"\"SELECT DISTINCT\n",
    "(card_no) FROM `wedge2020.wedge_transactions_data.*`\n",
    "WHERE card_no != 3\n",
    "GROUP BY card_no\n",
    "             \"\"\")\n",
    "\n",
    "# execute queries with `client.query`\n",
    "query_job = client.query(\n",
    "    query,\n",
    "    location=\"US\",\n",
    ")\n",
    "\n",
    "results = client.query(query)"
   ]
  },
  {
   "cell_type": "markdown",
   "metadata": {},
   "source": [
    "**Take a sample of the owners**"
   ]
  },
  {
   "cell_type": "code",
   "execution_count": null,
   "metadata": {},
   "outputs": [],
   "source": [
    "sample_of_owners = []\n",
    "\n",
    "for owner in results:\n",
    "    sample_of_owners.append(owner[0])\n",
    "    \n",
    "    \n",
    "sample = random.choices(sample_of_owners,k=420) \n",
    "# creating sample of 420 owners from 27207 owners from query above\n",
    "# 420 is an arbritrary number that should get close to the recommended 250 MB"
   ]
  },
  {
   "cell_type": "code",
   "execution_count": null,
   "metadata": {},
   "outputs": [],
   "source": [
    "query = (\"\"\"SELECT *\n",
    "FROM `wedge2020.wedge_transactions_data.*`\n",
    "WHERE card_no in (\n",
    "\"\"\")\n",
    "\n",
    "for owner in sample:\n",
    "    query += str(owner) + ', ' \n",
    "query = query[:-2] +')'"
   ]
  },
  {
   "cell_type": "code",
   "execution_count": null,
   "metadata": {},
   "outputs": [],
   "source": [
    "results = client.query(\n",
    "    query,\n",
    "    location=\"US\",\n",
    ")"
   ]
  },
  {
   "cell_type": "markdown",
   "metadata": {},
   "source": [
    "**Extracts all records associated with those owners**"
   ]
  },
  {
   "cell_type": "markdown",
   "metadata": {},
   "source": [
    "Adding headers and writing to a new text file named owner_transactions that will contain sample of owners"
   ]
  },
  {
   "cell_type": "code",
   "execution_count": null,
   "metadata": {},
   "outputs": [],
   "source": [
    "headers = [\"datetime\", \"register_no\", \"emp_no\", \"trans_no\", \"upc\" , \"description\", \"trans_type\", \"trans_subtype\", \"trans_status\", \"department\", \"quantity\", \"Scale\", \"cost\", \"unitPrice\", \"total\", \"regPrice\", \"altPrice\", \"tax\", \"taxexempt\", \"foodstamp\", \"wicable\", \"discount\", \"memDiscount\", \"discountable\", \"discounttype\", \"voided\", \"percentDiscount\", \"ItemQtty\", \"volDiscType\",\"volume\", \"VolSpecial\", \"mixMatch\", \"matched\", \"memType\", \"staff\", \"numflag\", \"itemstatus\", \"tenderstatus\", \"charflag\", \"varflag\", \"batchHeaderID\", \"local\", \"organic\", \"display\", \"receipt\", \"card_no\", \"store\", \"branch\", \"match_id\",\"trans_id\"]"
   ]
  },
  {
   "cell_type": "code",
   "execution_count": null,
   "metadata": {},
   "outputs": [],
   "source": [
    "with open(\"owner_transactions.txt\", 'w') as outfile : \n",
    "    outfile.write(\",\".join(headers) + \"\\n\")\n",
    "    for line in results:\n",
    "        row = [str(item) for item in line]\n",
    "        outfile.write(\",\".join(row) + \"\\n\")"
   ]
  }
 ],
 "metadata": {
  "kernelspec": {
   "display_name": "Python 3",
   "language": "python",
   "name": "python3"
  },
  "language_info": {
   "codemirror_mode": {
    "name": "ipython",
    "version": 3
   },
   "file_extension": ".py",
   "mimetype": "text/x-python",
   "name": "python",
   "nbconvert_exporter": "python",
   "pygments_lexer": "ipython3",
   "version": "3.8.3"
  }
 },
 "nbformat": 4,
 "nbformat_minor": 4
}
